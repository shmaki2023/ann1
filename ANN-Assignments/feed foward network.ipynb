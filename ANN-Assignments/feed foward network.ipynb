{
 "cells": [
  {
   "cell_type": "markdown",
   "id": "de0267a2",
   "metadata": {},
   "source": [
    "# *Write a program to demonstrate ART* "
   ]
  },
  {
   "cell_type": "markdown",
   "id": "47e64348",
   "metadata": {},
   "source": [
    "### *Name - Kiran Shete*   \n",
    "### *Roll no -33568*"
   ]
  },
  {
   "cell_type": "markdown",
   "id": "dee3c43a",
   "metadata": {},
   "source": [
    "## *Importing the libaries*"
   ]
  },
  {
   "cell_type": "code",
   "execution_count": 1,
   "id": "ebf8c658",
   "metadata": {},
   "outputs": [],
   "source": [
    "import numpy as np"
   ]
  },
  {
   "cell_type": "code",
   "execution_count": 2,
   "id": "accb1a32",
   "metadata": {},
   "outputs": [],
   "source": [
    "## *Define the class "
   ]
  },
  {
   "cell_type": "code",
   "execution_count": 3,
   "id": "eea4216b",
   "metadata": {},
   "outputs": [],
   "source": [
    "class ART1:\n",
    "    def __init__(self, num_input_nodes, num_categories, vigilance):\n",
    "        self.num_input_nodes = num_input_nodes\n",
    "        self.num_categories = num_categories\n",
    "        self.vigilance = vigilance\n",
    "        self.weights = np.ones((num_categories, num_input_nodes))\n",
    "\n",
    "    def learn(self, input_pattern):\n",
    "        while True:\n",
    "            # calculate the response of each category to the input pattern\n",
    "            response = np.dot(self.weights, input_pattern)\n",
    "            # calculate the sum of the weights of each category\n",
    "            weights_sum = np.sum(self.weights, axis=1)\n",
    "            # calculate the activation of each category\n",
    "            activation = response / weights_sum\n",
    "            # find the category with the highest activation\n",
    "            category = np.argmax(activation)\n",
    "            # calculate the match between the input pattern and the category\n",
    "            match = np.sum(np.minimum(self.weights[category], input_pattern))\n",
    "            # calculate the normalized match\n",
    "            normalized_match = match / np.sum(input_pattern)\n",
    "            # if the normalized match is greater than the vigilance, the input pattern\n",
    "            # is assigned to the category, and the weights are updated\n",
    "            if normalized_match > self.vigilance:\n",
    "                self.weights[category] = np.minimum(self.weights[category], input_pattern)\n",
    "                break\n",
    "            # if the normalized match is less than or equal to the vigilance, a new category\n",
    "            # is created with the input pattern as its weights\n",
    "            else:\n",
    "                self.weights = np.vstack([self.weights, input_pattern])\n",
    "                self.num_categories += 1\n",
    "\n",
    "    def classify(self, input_pattern):\n",
    "        # calculate the response of each category to the input pattern\n",
    "        response = np.dot(self.weights, input_pattern)\n",
    "        # calculate the sum of the weights of each category\n",
    "        weights_sum = np.sum(self.weights, axis=1)\n",
    "        # calculate the activation of each category\n",
    "        activation = response / weights_sum\n",
    "        # find the category with the highest activation\n",
    "        category = np.argmax(activation)\n",
    "        # return the category index and its activation\n",
    "        return category, activation[category]"
   ]
  },
  {
   "cell_type": "markdown",
   "id": "de23bc9d",
   "metadata": {},
   "source": [
    "## *create an ART1 network with 4 input nodes, 3 categories, and vigilance of 0.7*"
   ]
  },
  {
   "cell_type": "code",
   "execution_count": 4,
   "id": "d19b3d99",
   "metadata": {},
   "outputs": [],
   "source": [
    "network = ART1(4, 3, 0.7)\n",
    "# learn some input patterns\n",
    "network.learn(np.array([1, 0, 1, 0]))\n",
    "network.learn(np.array([0, 1, 0, 1]))\n",
    "network.learn(np.array([1, 1, 0, 0]))"
   ]
  },
  {
   "cell_type": "markdown",
   "id": "132527d6",
   "metadata": {},
   "source": [
    "# *classify some input patterns*"
   ]
  },
  {
   "cell_type": "code",
   "execution_count": 5,
   "id": "eb8236ed",
   "metadata": {},
   "outputs": [
    {
     "name": "stdout",
     "output_type": "stream",
     "text": [
      "(0, 0.5)\n",
      "(0, 0.5)\n"
     ]
    }
   ],
   "source": [
    "print(network.classify(np.array([1, 0, 0, 0])))\n",
    "print(network.classify(np.array([0, 1, 1, 0])))"
   ]
  }
 ],
 "metadata": {
  "kernelspec": {
   "display_name": "Python 3 (ipykernel)",
   "language": "python",
   "name": "python3"
  },
  "language_info": {
   "codemirror_mode": {
    "name": "ipython",
    "version": 3
   },
   "file_extension": ".py",
   "mimetype": "text/x-python",
   "name": "python",
   "nbconvert_exporter": "python",
   "pygments_lexer": "ipython3",
   "version": "3.9.13"
  }
 },
 "nbformat": 4,
 "nbformat_minor": 5
}
