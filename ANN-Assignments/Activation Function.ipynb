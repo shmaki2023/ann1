{
 "cells": [
  {
   "cell_type": "code",
   "execution_count": 1,
   "id": "78005064",
   "metadata": {},
   "outputs": [],
   "source": [
    "## *Importing the Libaries*"
   ]
  },
  {
   "cell_type": "code",
   "execution_count": 2,
   "id": "b00eb612",
   "metadata": {},
   "outputs": [],
   "source": [
    "import numpy as np\n",
    "import matplotlib.pyplot as plt"
   ]
  },
  {
   "cell_type": "code",
   "execution_count": 3,
   "id": "017967ed",
   "metadata": {},
   "outputs": [],
   "source": [
    "## *Define the Activation Functions*"
   ]
  },
  {
   "cell_type": "code",
   "execution_count": 4,
   "id": "2c1b264c",
   "metadata": {},
   "outputs": [],
   "source": [
    "class AF ():\n",
    "    \n",
    "# STEP FUNCTIONS\n",
    "    def step_function(x):\n",
    "        return np.heaviside(x, 1)\n",
    "       \n",
    "# SIGNUM FUNCTION        \n",
    "    def signum_function(x):\n",
    "        return np.sign(x)\n",
    "        \n",
    "# LINEAR FUNCTION    \n",
    "    def linear_function(x):\n",
    "        return x\n",
    "    \n",
    "# RELU FUNCTION    \n",
    "    def relu_function(x):\n",
    "        return np.maximum(0, x)\n",
    "    \n",
    "# LEAKY RELU FUNCTION    \n",
    "    def leaky_relu_function(x, alpha=0.1):\n",
    "        return np.maximum(alpha*x, x)\n",
    "  \n",
    "# HYPERBOLIC TANGENT TANGENT\n",
    "    def tanh_function(x):\n",
    "        return np.tanh(x)\n",
    "    \n",
    "# SIGMOID FUNCTION    \n",
    "    def sigmoid_function(x):\n",
    "        return 1 / (1 + np.exp(-x))\n",
    "    \n",
    "# SOFTMAX FUNCTION    \n",
    "    def softmax_function(x):\n",
    "        exp_vals = np.exp(x - np.max(x))  # to avoid numerical instability\n",
    "        return exp_vals / np.sum(exp_vals, axis=0)\n",
    "       "
   ]
  },
  {
   "cell_type": "code",
   "execution_count": 5,
   "id": "fe2cf830",
   "metadata": {},
   "outputs": [],
   "source": [
    "## *Defining Switch case*"
   ]
  },
  {
   "cell_type": "code",
   "execution_count": null,
   "id": "8117ab4f",
   "metadata": {},
   "outputs": [],
   "source": [
    "x = np.linspace(-10,10,num=100)\n",
    "while True:\n",
    "    n = int(input('''Enter\\n 0.to Cancel\\n\n",
    "                             1. STEP FUNCTIONS \\n \n",
    "                             2. SIGNUM FUNCTION \\n \n",
    "                             3. LINEAR FUNCTION \\n \n",
    "                             4. RELU FUNCTION \\n \n",
    "                             5. LEAKY RELU FUNCTION \\n\n",
    "                             6. SIGMOID FUNCTION \\n\n",
    "                             7. SOFTMAX FUNCTION \\n\n",
    "                             8. HYPERBOLIC  TANGENT \\n'''))\n",
    "    \n",
    "    if n==0:\n",
    "        break\n",
    "    if n==1:\n",
    "        plt.plot(x, AF.step_function(x))\n",
    "        plt.title('Activation Function :Step function')\n",
    "        plt.show()\n",
    "    elif n==2:\n",
    "        plt.plot(x, AF.signum_function(x))\n",
    "        plt.title('Activation Function : Signumfunction')\n",
    "        plt.show()\n",
    "    elif n==3:\n",
    "        plt.plot(x, AF.linear_function(x))\n",
    "        plt.title('Activation Function :Linear')\n",
    "        plt.show()\n",
    "    elif n==4:\n",
    "        plt.plot(x, AF.relu_function(x))\n",
    "        plt.title('Activation Function :RELU')\n",
    "        plt.show()\n",
    "    elif n==5:\n",
    "        plt.plot(x, AF.leaky_relu_function(x))\n",
    "        plt.title('Activation Function :Leaky RELU')\n",
    "        plt.show()\n",
    "    elif n==6:\n",
    "        plt.plot(x, AF.sigmoid_function(x))\n",
    "        plt.title('Activation Function :Sigmoid')\n",
    "        plt.show()\n",
    "    elif n==7:\n",
    "        plt.plot(x, AF.softmax_function(x))\n",
    "        plt.title('Activation Function :Softmax')\n",
    "        plt.show()\n",
    "    elif n==8:\n",
    "        plt.plot(x, AF.tanh_function(x))\n",
    "        plt.title('Activation Function :Tanh')\n",
    "        plt.show()\n",
    "    else :\n",
    "        print (\"INVALID INPUT GHARI JA GHARI\")\n",
    "      "
   ]
  }
 ],
 "metadata": {
  "kernelspec": {
   "display_name": "Python 3 (ipykernel)",
   "language": "python",
   "name": "python3"
  },
  "language_info": {
   "codemirror_mode": {
    "name": "ipython",
    "version": 3
   },
   "file_extension": ".py",
   "mimetype": "text/x-python",
   "name": "python",
   "nbconvert_exporter": "python",
   "pygments_lexer": "ipython3",
   "version": "3.9.13"
  }
 },
 "nbformat": 4,
 "nbformat_minor": 5
}
