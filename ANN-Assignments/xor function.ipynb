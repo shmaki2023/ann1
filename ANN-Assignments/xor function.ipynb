{
 "cells": [
  {
   "cell_type": "markdown",
   "id": "1ca7ac98",
   "metadata": {},
   "source": [
    "## *Write a program to show Back propagation network for XOR function with Binary input and output*"
   ]
  },
  {
   "cell_type": "markdown",
   "id": "a7a4101a",
   "metadata": {},
   "source": [
    "### *Name - Kiran Shete*   \n",
    "### *Roll no -33568*"
   ]
  },
  {
   "cell_type": "markdown",
   "id": "a2f9f1d6",
   "metadata": {},
   "source": [
    "## *Importing the Libaries*"
   ]
  },
  {
   "cell_type": "code",
   "execution_count": 1,
   "id": "bf607bfa",
   "metadata": {},
   "outputs": [],
   "source": [
    "import numpy as np"
   ]
  },
  {
   "cell_type": "markdown",
   "id": "4536b2da",
   "metadata": {},
   "source": [
    "## *Define the Activation Functions*"
   ]
  },
  {
   "cell_type": "code",
   "execution_count": 2,
   "id": "a6acf6ba",
   "metadata": {},
   "outputs": [],
   "source": [
    "# Define the sigmoid function\n",
    "def sigmoid(x):\n",
    "    return 1 / (1 + np.exp(-x))\n",
    "\n",
    "# Define the derivative of the sigmoid function\n",
    "def sigmoid_derivative(x):\n",
    "    return sigmoid(x) * (1 - sigmoid(x))"
   ]
  },
  {
   "cell_type": "markdown",
   "id": "0b02bdb8",
   "metadata": {},
   "source": [
    "## *Define the inputs and corresponding outputs for the XOR function*"
   ]
  },
  {
   "cell_type": "code",
   "execution_count": 3,
   "id": "c8934634",
   "metadata": {},
   "outputs": [],
   "source": [
    "inputs = np.array([[0, 0], [0, 1], [1, 0], [1, 1]])\n",
    "outputs = np.array([[0], [1], [1], [0]])\n"
   ]
  },
  {
   "cell_type": "markdown",
   "id": "5bb317d1",
   "metadata": {},
   "source": [
    "## *As we take 2 input layer 2 hidden layer and 1 output layer*"
   ]
  },
  {
   "cell_type": "code",
   "execution_count": 4,
   "id": "cf0eca6f",
   "metadata": {},
   "outputs": [],
   "source": [
    "# It Initialize the weights and biases of the network randomly\n",
    "weights1 = np.random.rand(2, 2)\n",
    "biases1 = np.random.rand(1, 2)\n",
    "weights2 = np.random.rand(2, 1)\n",
    "biases2 = np.random.rand(1, 1)\n"
   ]
  },
  {
   "cell_type": "code",
   "execution_count": null,
   "id": "63b4a4be",
   "metadata": {},
   "outputs": [],
   "source": []
  },
  {
   "cell_type": "code",
   "execution_count": 5,
   "id": "d2dc5f1e",
   "metadata": {},
   "outputs": [],
   "source": [
    "learning_rate = 0.1\n",
    "num_iterations = 10000\n"
   ]
  },
  {
   "cell_type": "code",
   "execution_count": null,
   "id": "82f1f8eb",
   "metadata": {},
   "outputs": [],
   "source": []
  },
  {
   "cell_type": "code",
   "execution_count": 6,
   "id": "e4171036",
   "metadata": {},
   "outputs": [],
   "source": [
    "for i in range(num_iterations):\n",
    "    # Forward pass\n",
    "    hidden_layer = sigmoid(np.dot(inputs, weights1) + biases1)\n",
    "    output_layer = sigmoid(np.dot(hidden_layer, weights2) + biases2)\n",
    "\n",
    "    # Backward pass\n",
    "    output_error = outputs - output_layer\n",
    "    output_delta = output_error * sigmoid_derivative(output_layer)\n",
    "\n",
    "    hidden_error = output_delta.dot(weights2.T)\n",
    "    hidden_delta = hidden_error * sigmoid_derivative(hidden_layer)\n",
    "\n",
    "    weights2 += hidden_layer.T.dot(output_delta) * learning_rate\n",
    "    biases2 += np.sum(output_delta, axis=0, keepdims=True) * learning_rate\n",
    "    weights1 += inputs.T.dot(hidden_delta) * learning_rate\n",
    "    biases1 += np.sum(hidden_delta, axis=0, keepdims=True) * learning_rate\n"
   ]
  },
  {
   "cell_type": "code",
   "execution_count": 7,
   "id": "d20d6c31",
   "metadata": {},
   "outputs": [
    {
     "name": "stdout",
     "output_type": "stream",
     "text": [
      "[[0.]\n",
      " [1.]\n",
      " [1.]\n",
      " [1.]]\n"
     ]
    }
   ],
   "source": [
    "test_input = np.array([[0, 0], [0, 1], [1, 0], [1, 1]])\n",
    "test_output = sigmoid(np.dot(sigmoid(np.dot(test_input, weights1) + biases1), weights2) + biases2)\n",
    "print(test_output.round())"
   ]
  }
 ],
 "metadata": {
  "kernelspec": {
   "display_name": "Python 3 (ipykernel)",
   "language": "python",
   "name": "python3"
  },
  "language_info": {
   "codemirror_mode": {
    "name": "ipython",
    "version": 3
   },
   "file_extension": ".py",
   "mimetype": "text/x-python",
   "name": "python",
   "nbconvert_exporter": "python",
   "pygments_lexer": "ipython3",
   "version": "3.9.13"
  }
 },
 "nbformat": 4,
 "nbformat_minor": 5
}
